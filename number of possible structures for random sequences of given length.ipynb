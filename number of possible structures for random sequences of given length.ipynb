{
 "cells": [
  {
   "cell_type": "code",
   "execution_count": 13,
   "metadata": {
    "collapsed": true
   },
   "outputs": [],
   "source": [
    "#Given a length of an RNA sequence of which each character can be A,C,G,U, for each possible sequence of that length,\n",
    "#find the total number of possible structures (excluding steric constraints due to hairpins etc.)\n",
    "#Only constraint is that in each structure, each base pair can only bind to one other base pair\n",
    "#(and base pairs can only bind if they're in the set {AU, CG, GU})\n",
    "\n",
    "#The functions numPossStructs and numPossStructsFaster take as an argument the length of the sequence, \n",
    "#and return the average number of structures for any sequence of that length (by directly enumerating all possible\n",
    "#sequences of a given length)\n",
    "\n",
    "import numpy as np\n",
    "import math\n",
    "\n",
    "def getSeqNum(sequence): #Define the identity of a sequence by the number of As, Cs, Gs, Us it has\n",
    "    nAs = sum([1 for i in sequence if i==0])\n",
    "    nCs = sum([1 for i in sequence if i==1])\n",
    "    nGs = sum([1 for i in sequence if i==2])\n",
    "    nUs = sum([1 for i in sequence if i==3])\n",
    "    return((nAs,nCs,nGs,nUs))\n",
    "    \n",
    "def countStructures(sequence,nStructuresVec,lenSeqStart):\n",
    "    #For a given sequence, use the tabulated results in nStructuresVec to count the number of possible structures it can form\n",
    "    #If the sequence (of length lenSeq) is actually a subsequence of a longer sequence (of length lenSeqStart),\n",
    "    #there are factorial((lenSeqStart - lenSeq)/2 + 1) different ways of choosing the previous base pairs as well \n",
    "    #as the next base pair, so we discount such sequences by that factor.\n",
    "    \n",
    "    lenSeq = len(sequence)\n",
    "    if lenSeq <= 1:\n",
    "        return(0,nStructuresVec)\n",
    "\n",
    "    seqNum = getSeqNum(sequence)\n",
    "\n",
    "    if nStructuresVec[seqNum] != -1.: #-1 means we haven't yet examined this sequence\n",
    "        return(nStructuresVec[seqNum],nStructuresVec)\n",
    "    \n",
    "    allowedBPs = [[0,3],[1,2],[2,1],[2,3],[3,0],[3,2]]\n",
    "    #A can bind to U, C to G, G to C or U, U to A or G.\n",
    "    \n",
    "    #if we haven't yet done this sequence, go through the sequence, and once you find a base pair, \n",
    "    #add one and the number of structures for the resulting sequence not including the nts that comprised that base pair\n",
    "    nStructuresVec[seqNum] = 0 #initialize to zero (rather than -1 which says we haven't done it yet)\n",
    "    for j in range(lenSeq-1): #for each possible base pair j,k\n",
    "        for k in range(j+1,lenSeq): \n",
    "            if [sequence[j],sequence[k]] in allowedBPs:\n",
    "                #Add one (downweighted by the number of different ways of getting to this base pair given the \n",
    "                #number of previous base pairs -- so e.g. if I previously considered a base pair CG and now am considering\n",
    "                #a base pair AU, I would be double counting since I could have also previously considered AU and now \n",
    "                #be considering CG)\n",
    "                nStructuresVec[seqNum] += 1./(math.factorial((lenSeqStart-lenSeq)/2+1))\n",
    "                \n",
    "                #consider the sequence not including the nts that comprised that base pair\n",
    "                noBPSeq = [sequence[i] for i in range(lenSeq) if (i != j and i != k)] \n",
    "                numOtherStructures,nStructuresVec = countStructures(noBPSeq,nStructuresVec,lenSeqStart)\n",
    "                nStructuresVec[seqNum] += numOtherStructures\n",
    "                \n",
    "    return(nStructuresVec[seqNum],nStructuresVec)\n",
    "\n",
    "\n",
    "def numPossStructs(lenSeq): #simplest way of doing this. Actually enumerate through each possible structure             \n",
    "    \n",
    "    def makeNextSeq(currSeq): #enumerate through the possible sequence space.\n",
    "        #0 = A, 1 = C, 2 = G, 3 = U.\n",
    "        if currSeq == [3]*len(currSeq): #if we've reached the last sequence in this enumeration scheme\n",
    "            return([0]*len(currSeq)) #make the enumeration cyclical\n",
    "\n",
    "        ind = len(currSeq) - 1 #index of ntd to change\n",
    "        while currSeq[ind] == 3 and ind >= 0:\n",
    "            ind -= 1\n",
    "        currSeq[ind] += 1\n",
    "        currSeq[ind+1:] = [0 for i in currSeq[ind+1:]]\n",
    "        return(currSeq)\n",
    "    \n",
    "    chars = 'ACGU'\n",
    "    #for each possible sequence of length lenSeq count the total number of possible structures \n",
    "    #(i.e. the number of non-overlapping pairs)\n",
    "    \n",
    "    nStructuresVec = np.zeros([lenSeq+1]*4) - 1 #index 0 is number of As, ... index 3 is number of Us\n",
    "    #keep track for each possible sequence the number of possible structures it can form\n",
    "    \n",
    "    nStructures = 0\n",
    "    currSeq = [0]*lenSeq\n",
    "    ind = lenSeq - 1\n",
    "    for i in range(4**lenSeq): #for each sequence i\n",
    "        nStructuresForSeq,nStructuresVec = countStructures(currSeq,nStructuresVec,lenSeq)\n",
    "        nStructures += nStructuresForSeq\n",
    "        seqInChars = [chars[currSeq[j]] for j in range(lenSeq)]\n",
    "        #print(seqInChars,nStructuresForSeq) #For testing\n",
    "        currSeq = makeNextSeq(currSeq)\n",
    "            \n",
    "    return(nStructures/(4**lenSeq)) #return average number of structures for a sequence of length lenSeq\n",
    "        \n",
    "    \n",
    "def numPossStructsFaster(lenSeq): #much much faster\n",
    "    #numPossStructs considers all possible sequences of length lenSeq.\n",
    "    #But we can do it faster by noting that AAUU and AUAU are not actually different sequences.\n",
    "    #So we enumerate based on the total number of each ntd in the sequence, and multiply by a factor\n",
    "    #telling us how many different arrangements of that combination we should expect.\n",
    "    chars = 'ACGU'\n",
    "    \n",
    "    nStructuresVec = np.zeros([lenSeq+1]*4) - 1 #index 0 is number of As, ... 3 is number of Us\n",
    "    #keep track for each possible sequence the number of possible structures it can form\n",
    "    \n",
    "    nStructures = 0\n",
    "    \n",
    "    for nAs in range(lenSeq+1): #can have from 0 to lenSeq As\n",
    "        for nCs in range(max(lenSeq+1 - (nAs),1)): #can have from 0 to (lenSeq - nAs) Cs\n",
    "            for nGs in range(max(lenSeq+1 - (nAs + nCs),1)): #etc.\n",
    "                for nUs in [max(lenSeq - (nAs + nCs + nGs),0)]: #once we've decided on nAs, nCs, nGs, we fix nUs \n",
    "                    currSeq = [0]*nAs + [1]*nCs + [2]*nGs + [3]*nUs\n",
    "                    \n",
    "                    #count number of ways of arranging nAs As, nCs Cs, etc.\n",
    "                    numWaysOfThisCombination = math.factorial(lenSeq) / (math.factorial(nAs) * math.factorial(nCs) *\n",
    "                                                                        math.factorial(nGs) * math.factorial(nUs))\n",
    "                    \n",
    "                    nStructuresForSeq,nStructuresVec = countStructures(currSeq,nStructuresVec,lenSeq)\n",
    "                    nStructures += nStructuresForSeq * numWaysOfThisCombination\n",
    "                    seqInChars = [chars[currSeq[j]] for j in range(lenSeq)]\n",
    "                    #print(seqInChars,nStructuresForSeq)\n",
    "            \n",
    "    return(nStructures/(4**lenSeq)) #return average number of structures for a sequence of length lenSeq\n"
   ]
  },
  {
   "cell_type": "code",
   "execution_count": 15,
   "metadata": {
    "collapsed": false
   },
   "outputs": [
    {
     "data": {
      "text/plain": [
       "15529620.328714823"
      ]
     },
     "execution_count": 15,
     "metadata": {},
     "output_type": "execute_result"
    }
   ],
   "source": [
    "#There are limits to how long you can set the sequences. Each of these take < 1 min but > 1 s\n",
    "numPossStructs(10)\n",
    "numPossStructsFaster(20)"
   ]
  },
  {
   "cell_type": "code",
   "execution_count": null,
   "metadata": {
    "collapsed": true
   },
   "outputs": [],
   "source": []
  }
 ],
 "metadata": {
  "kernelspec": {
   "display_name": "Python 3",
   "language": "python",
   "name": "python3"
  },
  "language_info": {
   "codemirror_mode": {
    "name": "ipython",
    "version": 3
   },
   "file_extension": ".py",
   "mimetype": "text/x-python",
   "name": "python",
   "nbconvert_exporter": "python",
   "pygments_lexer": "ipython3",
   "version": "3.5.2"
  }
 },
 "nbformat": 4,
 "nbformat_minor": 2
}
